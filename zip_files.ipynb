{
 "cells": [
  {
   "cell_type": "code",
   "execution_count": 2,
   "id": "6ae0d0dd-fc8e-400d-a28a-bc1439a1b05e",
   "metadata": {},
   "outputs": [
    {
     "data": {
      "text/plain": [
       "'/home/ubuntu/Method-optimization/Model/metric_output_temp.zip'"
      ]
     },
     "execution_count": 2,
     "metadata": {},
     "output_type": "execute_result"
    }
   ],
   "source": [
    "import shutil\n",
    "shutil.make_archive('metric_output_temp', 'zip', 'metric_output_temp')"
   ]
  },
  {
   "cell_type": "code",
   "execution_count": 3,
   "id": "d358f6ee-af48-439a-9ca4-31f703c3089d",
   "metadata": {},
   "outputs": [
    {
     "data": {
      "text/plain": [
       "'/home/ubuntu/Method-optimization/Model/train.zip'"
      ]
     },
     "execution_count": 3,
     "metadata": {},
     "output_type": "execute_result"
    }
   ],
   "source": [
    "shutil.make_archive('train', 'zip', 'train')"
   ]
  },
  {
   "cell_type": "code",
   "execution_count": 4,
   "id": "325e33a0-4cc6-4c4a-8ea8-cd269f0273ef",
   "metadata": {},
   "outputs": [
    {
     "data": {
      "text/plain": [
       "'/home/ubuntu/Method-optimization/Model/train_annot.zip'"
      ]
     },
     "execution_count": 4,
     "metadata": {},
     "output_type": "execute_result"
    }
   ],
   "source": [
    "shutil.make_archive('train_annot', 'zip', 'train_annot')"
   ]
  },
  {
   "cell_type": "code",
   "execution_count": 5,
   "id": "dddcf725-6404-4139-a2c1-345887288601",
   "metadata": {},
   "outputs": [
    {
     "data": {
      "text/plain": [
       "'/home/ubuntu/Method-optimization/Model/ele_cons.zip'"
      ]
     },
     "execution_count": 5,
     "metadata": {},
     "output_type": "execute_result"
    }
   ],
   "source": [
    "shutil.make_archive('ele_cons', 'zip', 'ele_cons')"
   ]
  },
  {
   "cell_type": "code",
   "execution_count": null,
   "id": "442f600a-0344-4e1c-8155-7d2554927a95",
   "metadata": {},
   "outputs": [],
   "source": [
    "import zipfile\n",
    "with zipfile.ZipFile(path_to_zip_file, 'r') as zip_ref:\n",
    "    zip_ref.extractall(directory_to_extract_to)"
   ]
  }
 ],
 "metadata": {
  "kernelspec": {
   "display_name": "Python 3",
   "language": "python",
   "name": "python3"
  },
  "language_info": {
   "codemirror_mode": {
    "name": "ipython",
    "version": 3
   },
   "file_extension": ".py",
   "mimetype": "text/x-python",
   "name": "python",
   "nbconvert_exporter": "python",
   "pygments_lexer": "ipython3",
   "version": "3.8.10"
  }
 },
 "nbformat": 4,
 "nbformat_minor": 5
}
