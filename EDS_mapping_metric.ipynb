{
 "cells": [
  {
   "cell_type": "markdown",
   "id": "338f4770-7252-45a7-af23-4d0bba3ccfa0",
   "metadata": {},
   "source": [
    "import os\n",
    "import numpy as np\n",
    "import cv2\n",
    "import matplotlib.pyplot as plt\n",
    "from torch.utils.data import DataLoader\n",
    "from torch.utils.data import Dataset as BaseDataset\n",
    "import albumentations as albu\n",
    "import torch\n",
    "import numpy as np\n",
    "import segmentation_models_pytorch as smp\n",
    "import matplotlib\n",
    "import scipy\n",
    "from segmentation_models_pytorch import utils as smp_utils\n",
    "import pandas as pd\n",
    "from os.path import exists\n",
    "from natsort import natsorted\n",
    "from torchviz import make_dot\n",
    "import matplotlib.pyplot as plt\n",
    "from multiprocessing import Pool"
   ]
  },
  {
   "cell_type": "code",
   "execution_count": 2,
   "id": "1c84eee6-b2a9-43c2-8b6f-4f6889585b58",
   "metadata": {},
   "outputs": [],
   "source": [
    "DATA_DIR = './'\n",
    "x_train_dir = os.path.join(DATA_DIR, 'train')\n",
    "y_train_dir = os.path.join(DATA_DIR, 'train_annot')\n",
    "\n",
    "x_valid_dir = os.path.join(DATA_DIR, 'train')\n",
    "y_valid_dir = os.path.join(DATA_DIR, 'train_annot')\n",
    "\n",
    "x_test_dir = os.path.join(DATA_DIR, 'train')\n",
    "y_test_dir = os.path.join(DATA_DIR, 'train_annot')"
   ]
  },
  {
   "cell_type": "code",
   "execution_count": 3,
   "id": "63b110df-eede-4c3d-b155-95481465529f",
   "metadata": {},
   "outputs": [],
   "source": [
    "names = ['C', 'Ca', 'Mg', 'Na', 'O', 'S', 'Cl']\n",
    "DATA_DIR = './'\n",
    "EDS_train_dir = os.path.join(DATA_DIR, 'EDS_output')"
   ]
  },
  {
   "cell_type": "code",
   "execution_count": 4,
   "id": "8140f4ea-d591-45bd-9617-2af7bbd29fa3",
   "metadata": {},
   "outputs": [],
   "source": [
    "image = cv2.imread('./EDS_output/1_C_gt.png')"
   ]
  },
  {
   "cell_type": "code",
   "execution_count": 5,
   "id": "97c06b92-995e-43db-a8ec-2c92d8b067c2",
   "metadata": {},
   "outputs": [],
   "source": [
    "def accu(i, j, image_gt):\n",
    "    for m in range(i-3, i+4):\n",
    "        for n in range(j-3, j+4):\n",
    "            if m >= 0 and m <= image_gt.shape[0]-1:\n",
    "                if n >= 0 and n <= image_gt.shape[1]-1:\n",
    "                    if image_gt[m, n] == 255:\n",
    "                        return 1\n",
    "    return 0"
   ]
  },
  {
   "cell_type": "code",
   "execution_count": 6,
   "id": "d1bffaaa-9063-4c67-9dbe-4b43c7a6d7c3",
   "metadata": {},
   "outputs": [],
   "source": [
    "def fal_pos(i, j, image_gt):\n",
    "    for m in range(i-3, i+4):\n",
    "        for n in range(j-3, j+4):\n",
    "            if m >= 0 and m <= image_gt.shape[0]-1:\n",
    "                if n >= 0 and n <= image_gt.shape[1]-1:\n",
    "                    if image_gt[m, n] == 255:\n",
    "                        return 0\n",
    "    return 1"
   ]
  },
  {
   "cell_type": "code",
   "execution_count": 7,
   "id": "8e1f5d0a-5319-4ef7-8ff7-5f6c33e99a0e",
   "metadata": {},
   "outputs": [],
   "source": [
    "def miss_pos(i, j, image_pr):\n",
    "    for m in range(i-3, i+4):\n",
    "        for n in range(j-3, j+4):\n",
    "            if m >= 0 and m <= image_pr.shape[0]-1:\n",
    "                if n >= 0 and n <= image_pr.shape[1]-1:\n",
    "                    if image_pr[m, n] == 255:\n",
    "                        return 0\n",
    "    return 1"
   ]
  },
  {
   "cell_type": "code",
   "execution_count": 8,
   "id": "36728d0b-dcf9-48e7-ad55-e5f89be39878",
   "metadata": {},
   "outputs": [],
   "source": [
    "def accu_fal_miss(image_gt, image_pr):\n",
    "    signals_pr = 0\n",
    "    signals_gt = 0\n",
    "    \n",
    "    accuracy = 0\n",
    "    false_pos = 0\n",
    "    missing_pos = 0\n",
    "    counter = 0\n",
    "    \n",
    "    for i in range(image_gt.shape[0]):\n",
    "        for j in range(image_gt.shape[1]):\n",
    "            if image_pr[i, j] == 255:\n",
    "                signals_pr = signals_pr + 1\n",
    "                accuracy = accuracy + accu(i, j, image_gt)\n",
    "                false_pos = false_pos + fal_pos(i, j, image_gt)\n",
    "\n",
    "            if image_gt[i, j] == 255:\n",
    "                signals_gt = signals_gt + 1\n",
    "                missing_pos = missing_pos + miss_pos(i, j, image_pr)\n",
    "    return accuracy/signals_pr, false_pos/signals_pr, missing_pos/signals_gt"
   ]
  },
  {
   "cell_type": "code",
   "execution_count": 9,
   "id": "559e1aad-434a-4def-ba26-d113c16dda1b",
   "metadata": {},
   "outputs": [],
   "source": [
    "# for i in range(1):\n",
    "#     for j in range(7):\n",
    "#         file_name_gt = os.path.join(EDS_train_dir, str(i+1)+'_'+names[j]+'_gt.png')\n",
    "#         file_name_pr = os.path.join(EDS_train_dir, str(i+1)+'_'+names[j]+'_pr.png')\n",
    "#         # image_gt = cv2.imread(file_name_gt)[:, :, 0]\n",
    "#         # image_pr = cv2.imread(file_name_pr)[:, :, 0] # (220, 293)\n",
    "#         image_gt = cv2.imread(file_name_gt)\n",
    "#         image_pr = cv2.imread(file_name_pr)\n",
    "#         # accuracy, false_pos, missing_pos = accu_fal_miss(image_gt, image_pr)\n",
    "#         # print(accuracy, false_pos, missing_pos)"
   ]
  },
  {
   "cell_type": "code",
   "execution_count": 10,
   "id": "5d7d7752-4388-4161-875f-1679f3a9b418",
   "metadata": {},
   "outputs": [],
   "source": [
    "class Dataset(BaseDataset):\n",
    "    def __init__(self, images_dir, masks_dir, augmentation=None, preprocessing=None):\n",
    "        # list file names in the self.ids list\n",
    "        self.sem_ids = os.listdir(images_dir)\n",
    "        self.label_ids = os.listdir(masks_dir)\n",
    "        \n",
    "        self.sem_ids.sort()\n",
    "        self.label_ids.sort()\n",
    "        \n",
    "        if self.sem_ids[0].startswith('.'):\n",
    "            self.sem_ids.pop(0)\n",
    "            \n",
    "        if self.label_ids[0].startswith('.'):\n",
    "            self.label_ids.pop(0)\n",
    "        \n",
    "        self.sem_ids = natsorted(self.sem_ids)\n",
    "        self.label_ids = natsorted(self.label_ids)\n",
    "        \n",
    "        self.images_fps = [os.path.join(images_dir, image_id) for image_id in self.sem_ids]\n",
    "        self.masks_fps = [os.path.join(masks_dir, label_id) for label_id in self.label_ids]\n",
    "        self.augmentation = augmentation\n",
    "        self.preprocessing = preprocessing\n",
    "    \n",
    "    def __getitem__(self, i):\n",
    "        image = cv2.imread(self.images_fps[i])\n",
    "        # print(image.shape)\n",
    "        # converting the file dimension in [N, C, H, W] order\n",
    "        # image = np.transpose(image, (2, 0, 1))\n",
    "\n",
    "        image = cv2.cvtColor(image, cv2.COLOR_BGR2RGB)\n",
    "        mat = scipy.io.loadmat(self.masks_fps[i])\n",
    "        mask = mat['label']\n",
    "        mask = np.transpose(mask, (1, 2, 0))\n",
    "        \n",
    "        # apply augmentations\n",
    "        if self.augmentation:\n",
    "            sample = self.augmentation(image=image, mask=mask)\n",
    "            image, mask = sample['image'], sample['mask']\n",
    "        \n",
    "        # apply preprocessing\n",
    "        if self.preprocessing:\n",
    "            sample = self.preprocessing(image=image, mask=mask)\n",
    "            image, mask = sample['image'], sample['mask']\n",
    "        return image, mask\n",
    "        \n",
    "    def __len__(self):\n",
    "        return len(self.sem_ids)"
   ]
  },
  {
   "cell_type": "code",
   "execution_count": 11,
   "id": "a7b5751c-42e2-4805-953c-8f5c921182c2",
   "metadata": {},
   "outputs": [],
   "source": [
    "torch.cuda.empty_cache()\n",
    "ENCODER = 'se_resnext50_32x4d'\n",
    "ENCODER_WEIGHTS = 'imagenet'\n",
    "ACTIVATION = 'sigmoid' # could be None for logits or 'softmax2d' for multiclass segmentation\n",
    "DEVICE = 'cuda'"
   ]
  },
  {
   "cell_type": "code",
   "execution_count": 12,
   "id": "29774d5e-e3a5-41f0-bc2e-c66350de918c",
   "metadata": {},
   "outputs": [],
   "source": [
    "def get_validation_augmentation():\n",
    "    test_transform = [\n",
    "        albu.PadIfNeeded(384, 480)\n",
    "    ]\n",
    "    return albu.Compose(test_transform)\n",
    "\n",
    "def to_tensor(x, **kwargs):\n",
    "    return x.transpose(2, 0, 1).astype('float32')\n",
    "\n",
    "def get_preprocessing(preprocessing_fn):\n",
    "    _transform = [\n",
    "        # albu.Lambda(image=preprocessing_fn),\n",
    "        albu.Lambda(image=to_tensor, mask=to_tensor),\n",
    "    ]\n",
    "    return albu.Compose(_transform)\n",
    "preprocessing_fn = smp.encoders.get_preprocessing_fn(ENCODER, ENCODER_WEIGHTS)"
   ]
  },
  {
   "cell_type": "code",
   "execution_count": 13,
   "id": "0957a994-e7ba-4baa-8e72-fed80224610e",
   "metadata": {},
   "outputs": [],
   "source": [
    "# create test dataset\n",
    "test_dataset = Dataset(\n",
    "    x_test_dir, \n",
    "    y_test_dir, \n",
    "    augmentation=get_validation_augmentation(), \n",
    "    preprocessing=get_preprocessing(preprocessing_fn),\n",
    ")"
   ]
  },
  {
   "cell_type": "code",
   "execution_count": 14,
   "id": "a50dd381-cdf4-4a5c-8eb1-ad4e79316221",
   "metadata": {},
   "outputs": [],
   "source": [
    "data = []"
   ]
  },
  {
   "cell_type": "code",
   "execution_count": 15,
   "id": "f9c8c905-8279-418d-ba19-7ba265b3b0c3",
   "metadata": {},
   "outputs": [],
   "source": [
    "for i in range(len(test_dataset)):\n",
    "    temp = []\n",
    "    for j in range(7):\n",
    "        image, gt_mask = test_dataset[i]\n",
    "        gt_mask = gt_mask.squeeze()\n",
    "        gt_mask = np.transpose(gt_mask, (1, 2, 0)) # (1920, 2560, 7)\n",
    "        x_tensor = torch.from_numpy(image).to(DEVICE).unsqueeze(0)\n",
    "        x_tensor = x_tensor.float()\n",
    "        best_model = torch.load('./best_model.pth')\n",
    "        pr_mask = best_model.predict(x_tensor)\n",
    "        pr_mask = pr_mask.squeeze().cpu().numpy().round()\n",
    "        image = np.transpose(image, (1, 2, 0))\n",
    "        pr_mask = np.transpose(pr_mask, (1, 2, 0)) # (1920, 2560, 7)\n",
    "        image_gt = gt_mask[:, :, j]*255\n",
    "        image_pr = pr_mask[:, :, j]*255\n",
    "        temp.append([image_gt, image_pr])\n",
    "    temp = np.asarray(temp)\n",
    "    with open('metric_output_temp/' + str(i+1) + '.npy', 'wb') as f:\n",
    "        np.save(f, temp)"
   ]
  },
  {
   "cell_type": "code",
   "execution_count": null,
   "id": "5da30b9c-ff2d-4207-8be1-1cecf0da3f2d",
   "metadata": {},
   "outputs": [],
   "source": [
    "def f(i):\n",
    "    with open('metric_output_temp/' + str(i) + '.npy', 'rb') as f:\n",
    "        images = np.load(f)\n",
    "    temp = []\n",
    "    for i in range(7):\n",
    "        image_gt, image_pr = images[i]\n",
    "        accuracy, false_pos, missing_pos = accu_fal_miss(image_gt, image_pr)\n",
    "        temp.append([accuracy, false_pos, missing_pos])\n",
    "    return temp\n",
    "\n",
    "with Pool(12) as p:\n",
    "    result = p.map(f, list(range(1, 626)))"
   ]
  },
  {
   "cell_type": "code",
   "execution_count": null,
   "id": "888a4f70-cc55-4662-a55d-9f3235b4c584",
   "metadata": {},
   "outputs": [],
   "source": [
    "print(len(result))"
   ]
  },
  {
   "cell_type": "code",
   "execution_count": null,
   "id": "2da51857-fd6a-4b7a-ac38-201c7bbc5c85",
   "metadata": {},
   "outputs": [],
   "source": [
    "metric_results = np.asarray(result)"
   ]
  },
  {
   "cell_type": "code",
   "execution_count": null,
   "id": "b0c86b93-d893-42b3-9527-3d94fd256ed1",
   "metadata": {},
   "outputs": [],
   "source": [
    "with open('EDS_metric_results.npy', 'wb') as f:\n",
    "    np.save(f, metric_results)\n",
    "with open('EDS_metric_results.npy', 'rb') as f:\n",
    "    metric_results = np.load(f)"
   ]
  },
  {
   "cell_type": "code",
   "execution_count": null,
   "id": "c762eb64-2ccf-4385-a180-fb4b001630b3",
   "metadata": {},
   "outputs": [],
   "source": []
  }
 ],
 "metadata": {
  "kernelspec": {
   "display_name": "Python 3",
   "language": "python",
   "name": "python3"
  },
  "language_info": {
   "codemirror_mode": {
    "name": "ipython",
    "version": 3
   },
   "file_extension": ".py",
   "mimetype": "text/x-python",
   "name": "python",
   "nbconvert_exporter": "python",
   "pygments_lexer": "ipython3",
   "version": "3.8.10"
  }
 },
 "nbformat": 4,
 "nbformat_minor": 5
}
