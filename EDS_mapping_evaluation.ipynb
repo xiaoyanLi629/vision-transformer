{
 "cells": [
  {
   "cell_type": "code",
   "execution_count": 1,
   "id": "2bee8ef4-33d4-4da8-b04b-b056fec549e3",
   "metadata": {},
   "outputs": [],
   "source": [
    "import os\n",
    "import numpy as np\n",
    "import cv2\n",
    "import matplotlib.pyplot as plt\n",
    "from torch.utils.data import DataLoader\n",
    "from torch.utils.data import Dataset as BaseDataset\n",
    "import albumentations as albu\n",
    "import torch\n",
    "import segmentation_models_pytorch as smp\n",
    "import matplotlib\n",
    "import scipy\n",
    "from segmentation_models_pytorch import utils as smp_utils\n",
    "import pandas as pd\n",
    "from os.path import exists\n",
    "from natsort import natsorted"
   ]
  },
  {
   "cell_type": "code",
   "execution_count": 2,
   "id": "5cf7950a-0438-4b82-8b82-f4656b5caa3a",
   "metadata": {},
   "outputs": [],
   "source": [
    "os.environ['CUDA_VISIBLE_DEVICES'] = '0'"
   ]
  },
  {
   "cell_type": "code",
   "execution_count": 3,
   "id": "da315fc9-75bc-4676-bda8-d01fae870ea3",
   "metadata": {},
   "outputs": [],
   "source": [
    "DATA_DIR = './'"
   ]
  },
  {
   "cell_type": "code",
   "execution_count": 4,
   "id": "aa1ee26c-1f68-4c52-9f69-49b6442ef8b8",
   "metadata": {},
   "outputs": [],
   "source": [
    "x_train_dir = os.path.join(DATA_DIR, 'train')\n",
    "y_train_dir = os.path.join(DATA_DIR, 'train_annot')\n",
    "\n",
    "x_valid_dir = os.path.join(DATA_DIR, 'train')\n",
    "y_valid_dir = os.path.join(DATA_DIR, 'train_annot')\n",
    "\n",
    "x_test_dir = os.path.join(DATA_DIR, 'train')\n",
    "y_test_dir = os.path.join(DATA_DIR, 'train_annot')"
   ]
  },
  {
   "cell_type": "code",
   "execution_count": 5,
   "id": "34ff7c9f-3d7c-441f-baa7-1a442e6734f3",
   "metadata": {},
   "outputs": [],
   "source": [
    "# helper function for data visualization\n",
    "def visualize(image, mask):\n",
    "    \"\"\"PLot images in one row.\"\"\"\n",
    "    n = mask.shape[2]+1\n",
    "    plt.figure(figsize=(n*6, 5))\n",
    "    # for i, (name, image) in enumerate(images.items()):\n",
    "\n",
    "    plt.subplot(1, n, 1)\n",
    "    plt.xticks([])\n",
    "    plt.yticks([])\n",
    "    # plt.title(' '.join(name.split('_')).title())\n",
    "    plt.imshow(image)\n",
    "    \n",
    "    cmaps = [\n",
    "        matplotlib.colors.ListedColormap(['black', 'red']),\n",
    "        matplotlib.colors.ListedColormap(['black', 'orange']),\n",
    "        matplotlib.colors.ListedColormap(['black', 'blue']),\n",
    "        matplotlib.colors.ListedColormap(['black', 'pink']),\n",
    "        matplotlib.colors.ListedColormap(['black', 'green']),\n",
    "        matplotlib.colors.ListedColormap(['black', 'yellow']),\n",
    "        matplotlib.colors.ListedColormap(['black', 'red']),\n",
    "    ]\n",
    "    names = ['C', 'Ca', 'Mg', 'Na', 'O', 'S', 'Cl']\n",
    "    \n",
    "    for j in range(7):\n",
    "        plt.subplot(1, n, j + 2)\n",
    "        plt.xticks([])\n",
    "        plt.yticks([])\n",
    "        name = names[j]\n",
    "        plt.title(name)\n",
    "        plt.imshow(mask[:, :, j], cmap = cmaps[j], vmin=0, vmax=1)\n",
    "    plt.show()"
   ]
  },
  {
   "cell_type": "code",
   "execution_count": 6,
   "id": "740cd3af-3d39-451b-b792-60a0abcb2a72",
   "metadata": {},
   "outputs": [],
   "source": [
    "class Dataset(BaseDataset):\n",
    "    \"\"\"Setup Dataset. Read images, apply augmentation and preprocessing transformations.\n",
    "    \n",
    "    Args:\n",
    "        images_dir (str): path to images folder\n",
    "        masks_dir (str): path to masks folder\n",
    "        class_values (list): values of classes to extract from segmentation mask\n",
    "        augmentation (albumentations.Compose): data transfromation pipeline \n",
    "            (e.g. flip, scale, etc.)\n",
    "        preprocessing (albumentations.Compose): data preprocessing \n",
    "            (e.g. noralization, shape manipulation, etc.\n",
    "    \"\"\"\n",
    "\n",
    "    def __init__(self, images_dir, masks_dir, augmentation=None, preprocessing=None):\n",
    "        # list file names in the self.ids list\n",
    "        self.sem_ids = os.listdir(images_dir)\n",
    "        self.label_ids = os.listdir(masks_dir)\n",
    "        \n",
    "        self.sem_ids.sort()\n",
    "        self.label_ids.sort()\n",
    "        \n",
    "        if self.sem_ids[0].startswith('.'):\n",
    "            self.sem_ids.pop(0)\n",
    "            \n",
    "        if self.label_ids[0].startswith('.'):\n",
    "            self.label_ids.pop(0)\n",
    "        \n",
    "        self.sem_ids = natsorted(self.sem_ids)\n",
    "        self.label_ids = natsorted(self.label_ids)\n",
    "        \n",
    "        self.images_fps = [os.path.join(images_dir, image_id) for image_id in self.sem_ids]\n",
    "        self.masks_fps = [os.path.join(masks_dir, label_id) for label_id in self.label_ids]\n",
    "        self.augmentation = augmentation\n",
    "        self.preprocessing = preprocessing\n",
    "    \n",
    "    def __getitem__(self, i):\n",
    "        image = cv2.imread(self.images_fps[i])\n",
    "        # print(image.shape)\n",
    "        # converting the file dimension in [N, C, H, W] order\n",
    "        # image = np.transpose(image, (2, 0, 1))\n",
    "\n",
    "        image = cv2.cvtColor(image, cv2.COLOR_BGR2RGB)\n",
    "        mat = scipy.io.loadmat(self.masks_fps[i])\n",
    "        mask = mat['label']\n",
    "        mask = np.transpose(mask, (1, 2, 0))\n",
    "        \n",
    "        # apply augmentations\n",
    "        if self.augmentation:\n",
    "            sample = self.augmentation(image=image, mask=mask)\n",
    "            image, mask = sample['image'], sample['mask']\n",
    "        \n",
    "        # apply preprocessing\n",
    "        if self.preprocessing:\n",
    "            sample = self.preprocessing(image=image, mask=mask)\n",
    "            image, mask = sample['image'], sample['mask']\n",
    "        return image, mask\n",
    "        \n",
    "    def __len__(self):\n",
    "        return len(self.sem_ids)"
   ]
  },
  {
   "cell_type": "code",
   "execution_count": 7,
   "id": "ff30af7b-24d9-40ad-a35a-93b5f6faac46",
   "metadata": {},
   "outputs": [],
   "source": [
    "def get_training_augmentation():\n",
    "    \n",
    "    train_transform = [\n",
    "        albu.HorizontalFlip(p=0.5),\n",
    "        albu.ShiftScaleRotate(scale_limit=0.5, rotate_limit=0, shift_limit=0.1, p=1, border_mode=0),\n",
    "        # albu.PadIfNeeded(min_height=320, min_width=320, always_apply=True, border_mode=0),\n",
    "        # albu.RandomCrop(height=320, width=320, always_apply=True),\n",
    "        albu.GaussNoise(p=0.2),\n",
    "        # albu.IAAPerspective(p=0.5),\n",
    "        albu.Perspective(p=0.5),\n",
    "\n",
    "        albu.OneOf(\n",
    "            [\n",
    "                albu.CLAHE(p=1),\n",
    "                # albu.RandomBrightness(p=1),\n",
    "                albu.RandomBrightnessContrast(p=1),\n",
    "                albu.RandomGamma(p=1),\n",
    "            ],\n",
    "            p=0.9,\n",
    "        ),\n",
    "\n",
    "        albu.OneOf(\n",
    "            [\n",
    "                # albu.IAASharpen(p=1),\n",
    "                albu.Sharpen(p=1),\n",
    "                albu.Blur(blur_limit=3, p=1),\n",
    "                albu.MotionBlur(blur_limit=3, p=1),\n",
    "            ],\n",
    "            p=0.9,\n",
    "        ),\n",
    "\n",
    "        albu.OneOf(\n",
    "            [\n",
    "                # albu.RandomContrast(p=1),\n",
    "                albu.RandomBrightnessContrast(p=1),\n",
    "                albu.HueSaturationValue(p=1),\n",
    "            ],\n",
    "            p=0.9,\n",
    "        ),\n",
    "    ]\n",
    "    return albu.Compose(train_transform)"
   ]
  },
  {
   "cell_type": "code",
   "execution_count": 8,
   "id": "aed37b3f-c851-4529-9e86-50bbbfb81618",
   "metadata": {},
   "outputs": [],
   "source": [
    "def get_validation_augmentation():\n",
    "    \"\"\"Add paddings to make image shape divisible by 32\"\"\"\n",
    "    test_transform = [\n",
    "        albu.PadIfNeeded(384, 480)\n",
    "    ]\n",
    "    return albu.Compose(test_transform)\n",
    "\n",
    "def to_tensor(x, **kwargs):\n",
    "    return x.transpose(2, 0, 1).astype('float32')\n",
    "\n",
    "def get_preprocessing(preprocessing_fn):\n",
    "    \"\"\"Construct preprocessing transform\n",
    "    Args:\n",
    "        preprocessing_fn (callbale): data normalization function \n",
    "            (can be specific for each pretrained neural network)\n",
    "    Return:\n",
    "        transform: albumentations.Compose\n",
    "    \"\"\"\n",
    "    \n",
    "    _transform = [\n",
    "        # albu.Lambda(image=preprocessing_fn),\n",
    "        albu.Lambda(image=to_tensor, mask=to_tensor),\n",
    "    ]\n",
    "    return albu.Compose(_transform)"
   ]
  },
  {
   "cell_type": "code",
   "execution_count": 9,
   "id": "512fbfbc-d029-4eff-a7a0-adf65f7e64ec",
   "metadata": {},
   "outputs": [],
   "source": [
    "torch.cuda.empty_cache()\n",
    "# torch.cuda.set_per_process_memory_fraction(0.9, 0)\n",
    "\n",
    "ENCODER = 'se_resnext50_32x4d'\n",
    "ENCODER_WEIGHTS = 'imagenet'\n",
    "ACTIVATION = 'sigmoid' # could be None for logits or 'softmax2d' for multiclass segmentation\n",
    "DEVICE = 'cuda'"
   ]
  },
  {
   "cell_type": "code",
   "execution_count": 10,
   "id": "ec6e86d0-bae4-4d18-ae32-2d244a8e3200",
   "metadata": {},
   "outputs": [],
   "source": [
    "preprocessing_fn = smp.encoders.get_preprocessing_fn(ENCODER, ENCODER_WEIGHTS)"
   ]
  },
  {
   "cell_type": "code",
   "execution_count": 11,
   "id": "7bead45c-b096-4544-881e-9073e48f4d44",
   "metadata": {},
   "outputs": [],
   "source": [
    "# create test dataset\n",
    "test_dataset = Dataset(\n",
    "    x_test_dir, \n",
    "    y_test_dir, \n",
    "    augmentation=get_validation_augmentation(), \n",
    "    preprocessing=get_preprocessing(preprocessing_fn),\n",
    ")"
   ]
  },
  {
   "cell_type": "code",
   "execution_count": 12,
   "id": "d60c10b7-073e-4735-a40b-d7714104efed",
   "metadata": {},
   "outputs": [],
   "source": [
    "# test dataset without transformations for image visualization\n",
    "test_dataset_vis = Dataset(\n",
    "    x_test_dir, y_test_dir, \n",
    ")"
   ]
  },
  {
   "cell_type": "code",
   "execution_count": 13,
   "id": "28758453-5772-461f-92bd-c0591a4a1d07",
   "metadata": {},
   "outputs": [],
   "source": [
    "cmaps = [\n",
    "    matplotlib.colors.ListedColormap(['black', 'red']),\n",
    "    matplotlib.colors.ListedColormap(['black', 'orange']),\n",
    "    matplotlib.colors.ListedColormap(['black', 'blue']),\n",
    "    matplotlib.colors.ListedColormap(['black', 'pink']),\n",
    "    matplotlib.colors.ListedColormap(['black', 'green']),\n",
    "    matplotlib.colors.ListedColormap(['black', 'yellow']),\n",
    "    matplotlib.colors.ListedColormap(['black', 'red']),\n",
    "]\n",
    "names = ['C', 'Ca', 'Mg', 'Na', 'O', 'S', 'Cl']"
   ]
  },
  {
   "cell_type": "code",
   "execution_count": 14,
   "id": "20463dfb-4e15-4648-8179-56b215460926",
   "metadata": {},
   "outputs": [],
   "source": [
    "for i in range(607, 608):\n",
    "    # i = np.random.choice(len(test_dataset))\n",
    "    image, gt_mask = test_dataset[i]\n",
    "    \n",
    "    image_vis = np.transpose(image, (1, 2, 0))\n",
    "    image_vis = image_vis.astype('uint8')\n",
    "    \n",
    "    gt_mask = gt_mask.squeeze()\n",
    "    x_tensor = torch.from_numpy(image).to(DEVICE).unsqueeze(0)\n",
    "    x_tensor = x_tensor.float()\n",
    "\n",
    "    best_model = torch.load('./best_model.pth')\n",
    "    pr_mask = best_model.predict(x_tensor)\n",
    "    pr_mask = pr_mask.squeeze().cpu().numpy().round()\n",
    "    pr_mask = np.transpose(pr_mask, (1, 2, 0)) # (1920, 2560, 7)\n",
    "    \n",
    "    gt_mask = np.transpose(gt_mask, (1, 2, 0))\n",
    "    for j in range(7):\n",
    "        \n",
    "        plt.xticks([])\n",
    "        plt.yticks([])\n",
    "        plt.imshow(pr_mask[:, :, j], cmap = cmaps[j], vmin=0, vmax=1)\n",
    "        plt.savefig('EDS_output/' + str(i+1) + '_' + names[j] + '_pr' + '.png', bbox_inches='tight',transparent=True, pad_inches=0)\n",
    "        plt.close()\n",
    "        \n",
    "        plt.xticks([])\n",
    "        plt.yticks([])\n",
    "        plt.imshow(gt_mask[:, :, j], cmap = cmaps[j], vmin=0, vmax=1)\n",
    "        plt.savefig('EDS_output/' + str(i+1) + '_' + names[j] + '_gt' + '.png', bbox_inches='tight',transparent=True, pad_inches=0)\n",
    "        plt.close()\n",
    "        \n",
    "\n",
    "    gt_mask = np.transpose(gt_mask, (1, 2, 0))\n",
    "    # visualize(\n",
    "    #     image=image_vis,\n",
    "    #     mask=gt_mask,\n",
    "    # )\n",
    "    # visualize(\n",
    "    #     image=image_vis, \n",
    "    #     mask=pr_mask\n",
    "    # )"
   ]
  },
  {
   "cell_type": "code",
   "execution_count": 15,
   "id": "abe753ca-02e8-4f29-af4a-c3adbf38ff6f",
   "metadata": {},
   "outputs": [
    {
     "data": {
      "text/plain": [
       "'/home/ubuntu/Method-optimization/Model/EDS_output.zip'"
      ]
     },
     "execution_count": 15,
     "metadata": {},
     "output_type": "execute_result"
    }
   ],
   "source": [
    "import shutil\n",
    "shutil.make_archive('EDS_output', 'zip', 'EDS_output')"
   ]
  },
  {
   "cell_type": "code",
   "execution_count": 16,
   "id": "6d5da1b2-01a2-4a78-8b39-d1ac7f3f0c3c",
   "metadata": {},
   "outputs": [
    {
     "name": "stdout",
     "output_type": "stream",
     "text": [
      "(3, 1920, 2560)\n"
     ]
    },
    {
     "data": {
      "text/plain": [
       "<matplotlib.image.AxesImage at 0x7f48f4b64c40>"
      ]
     },
     "execution_count": 16,
     "metadata": {},
     "output_type": "execute_result"
    },
    {
     "data": {
      "image/png": "[encoded data removed]",
      "text/plain": [
       "<Figure size 432x288 with 1 Axes>"
      ]
     },
     "metadata": {
      "needs_background": "light"
     },
     "output_type": "display_data"
    }
   ],
   "source": [
    "print(image.shape)\n",
    "image = np.transpose(image, (1, 2, 0))\n",
    "image = image.astype(int)\n",
    "plt.imshow(image)"
   ]
  },
  {
   "cell_type": "code",
   "execution_count": null,
   "id": "b59e352b-ee0e-48cc-9c47-3dd52aed0bb1",
   "metadata": {},
   "outputs": [],
   "source": []
  }
 ],
 "metadata": {
  "kernelspec": {
   "display_name": "Python 3",
   "language": "python",
   "name": "python3"
  },
  "language_info": {
   "codemirror_mode": {
    "name": "ipython",
    "version": 3
   },
   "file_extension": ".py",
   "mimetype": "text/x-python",
   "name": "python",
   "nbconvert_exporter": "python",
   "pygments_lexer": "ipython3",
   "version": "3.8.10"
  }
 },
 "nbformat": 4,
 "nbformat_minor": 5
}
